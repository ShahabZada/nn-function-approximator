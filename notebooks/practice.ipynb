{
 "cells": [
  {
   "cell_type": "code",
   "execution_count": null,
   "metadata": {},
   "outputs": [],
   "source": [
    "import torch\n",
    "import torch.nn as nn\n",
    "import torch.optim as optim\n",
    "import numpy as np\n",
    "import matplotlib.pyplot as plt\n"
   ]
  },
  {
   "cell_type": "code",
   "execution_count": null,
   "metadata": {},
   "outputs": [],
   "source": [
    "# Generate data\n",
    "x = np.linspace(0, 2 * np.pi, 1000)\n",
    "y = np.sin(x)\n",
    "\n",
    "# Convert to PyTorch tensors\n",
    "x_tensor = torch.tensor(x, dtype=torch.float32).view(-1, 1)  # Reshape to (num_samples, num_features)\n",
    "y_tensor = torch.tensor(y, dtype=torch.float32).view(-1, 1)\n"
   ]
  },
  {
   "cell_type": "code",
   "execution_count": null,
   "metadata": {},
   "outputs": [],
   "source": [
    "class SimpleNet(nn.Module):\n",
    "    def __init__(self):\n",
    "        super(SimpleNet, self).__init__()\n",
    "        self.fc1 = nn.Linear(1, 50)  # Input: 1 feature, Output: 50 features\n",
    "        self.fc2 = nn.Linear(50, 1)  # Input: 50 features, Output: 1 feature\n",
    "\n",
    "    def forward(self, x):\n",
    "        x = torch.relu(self.fc1(x))\n",
    "        x = self.fc2(x)\n",
    "        return x\n",
    "\n",
    "# Instantiate the model\n",
    "model = SimpleNet()\n"
   ]
  },
  {
   "cell_type": "code",
   "execution_count": null,
   "metadata": {},
   "outputs": [],
   "source": [
    "criterion = nn.MSELoss()\n",
    "optimizer = optim.SGD(model.parameters(), lr=0.01)\n"
   ]
  },
  {
   "cell_type": "code",
   "execution_count": null,
   "metadata": {},
   "outputs": [],
   "source": [
    "num_epochs = 5000\n",
    "for epoch in range(num_epochs):\n",
    "    # Forward pass\n",
    "    outputs = model(x_tensor)\n",
    "    loss = criterion(outputs, y_tensor)\n",
    "\n",
    "    # Backpropagation and optimization\n",
    "    optimizer.zero_grad()\n",
    "    loss.backward()\n",
    "    optimizer.step()\n",
    "\n",
    "    if (epoch + 1) % 1000 == 0:\n",
    "        print(f'Epoch [{epoch+1}/{num_epochs}], Loss: {loss.item():.4f}')\n"
   ]
  },
  {
   "cell_type": "code",
   "execution_count": null,
   "metadata": {},
   "outputs": [],
   "source": [
    "# Generate predictions\n",
    "with torch.no_grad():\n",
    "    predicted = model(x_tensor).numpy()\n",
    "\n",
    "plt.figure(figsize=(10, 6))\n",
    "plt.plot(x, y, label='Original Sine Curve')\n",
    "plt.plot(x, predicted, label='Learned Curve', linestyle='dashed')\n",
    "plt.legend()\n",
    "plt.xlabel('x')\n",
    "plt.ylabel('y')\n",
    "plt.title('Original Sine vs. Learned Curve')\n",
    "plt.show()\n"
   ]
  },
  {
   "attachments": {},
   "cell_type": "markdown",
   "metadata": {},
   "source": [
    "# Using LSTM"
   ]
  },
  {
   "cell_type": "markdown",
   "metadata": {},
   "source": []
  },
  {
   "cell_type": "code",
   "execution_count": null,
   "metadata": {},
   "outputs": [],
   "source": [
    "import torch\n",
    "import torch.nn as nn\n",
    "import torch.optim as optim\n",
    "import numpy as np\n",
    "import matplotlib.pyplot as plt\n",
    "\n",
    "# Generate data\n",
    "x = np.linspace(0, 2 * np.pi, 1000)\n",
    "y = np.sin(x)\n",
    "\n",
    "# Convert to PyTorch tensors\n",
    "x_tensor = torch.tensor(x, dtype=torch.float32).view(-1, 1, 1)  # Reshape to (num_samples, sequence_length, num_features)\n",
    "y_tensor = torch.tensor(y, dtype=torch.float32).view(-1, 1)\n",
    "\n",
    "# Define the LSTM model\n",
    "class LSTMNet(nn.Module):\n",
    "    def __init__(self, input_size, hidden_size, output_size, num_layers):\n",
    "        super(LSTMNet, self).__init__()\n",
    "        self.lstm = nn.LSTM(input_size, hidden_size, num_layers, batch_first=True)\n",
    "        self.fc = nn.Linear(hidden_size, output_size)\n",
    "\n",
    "    def forward(self, x):\n",
    "        out, _ = self.lstm(x)\n",
    "        out = self.fc(out[:, -1, :])  # Take the output of the last time step\n",
    "        return out\n",
    "\n",
    "input_size = 1\n",
    "hidden_size = 50\n",
    "output_size = 1\n",
    "num_layers = 1\n",
    "\n",
    "# Instantiate the LSTM model\n",
    "model = LSTMNet(input_size, hidden_size, output_size, num_layers)\n",
    "\n",
    "# Choose Loss Function and Optimizer\n",
    "criterion = nn.MSELoss()\n",
    "optimizer = optim.Adam(model.parameters(), lr=0.01)\n",
    "\n",
    "# Training Loop\n",
    "num_epochs = 5000\n",
    "for epoch in range(num_epochs):\n",
    "    # Forward pass\n",
    "    outputs = model(x_tensor)\n",
    "    loss = criterion(outputs, y_tensor)\n",
    "\n",
    "    # Backpropagation and optimization\n",
    "    optimizer.zero_grad()\n",
    "    loss.backward()\n",
    "    optimizer.step()\n",
    "\n",
    "    if (epoch + 1) % 1000 == 0:\n",
    "        print(f'Epoch [{epoch+1}/{num_epochs}], Loss: {loss.item():.4f}')\n",
    "\n",
    "\n",
    "\n",
    "\n"
   ]
  },
  {
   "cell_type": "code",
   "execution_count": null,
   "metadata": {},
   "outputs": [],
   "source": [
    "# Generate data\n",
    "x_test = np.linspace(0, 16 * np.pi, 1000)\n",
    "y_test = np.sin(x)\n",
    "\n",
    "# Convert to PyTorch tensors\n",
    "x_tensor_test = torch.tensor(x_test, dtype=torch.float32).view(-1, 1, 1)  # Reshape to (num_samples, sequence_length, num_features)\n",
    "y_tensor_test = torch.tensor(y_test, dtype=torch.float32).view(-1, 1)\n",
    "# Generate predictions\n",
    "with torch.no_grad():\n",
    "    predicted = model(x_tensor_test).numpy()\n",
    "# Plot the Results\n",
    "plt.figure(figsize=(10, 6))\n",
    "plt.scatter(x, y,s=2, label='Original Sine Curve')\n",
    "plt.scatter(x_test, predicted,s=2, label='Learned Curve', linestyle='dashed')\n",
    "plt.legend()\n",
    "plt.xlabel('x')\n",
    "plt.ylabel('y')\n",
    "plt.title('Original Sine vs. Learned Curve')\n",
    "plt.show()"
   ]
  },
  {
   "cell_type": "code",
   "execution_count": 1,
   "metadata": {},
   "outputs": [
    {
     "data": {
      "image/png": "[encoded data removed]",
      "text/plain": [
       "<Figure size 640x480 with 1 Axes>"
      ]
     },
     "metadata": {},
     "output_type": "display_data"
    }
   ],
   "source": [
    "import numpy as np\n",
    "import matplotlib.pyplot as plt\n",
    "from matplotlib.animation import FuncAnimation\n",
    "from matplotlib.animation import PillowWriter\n",
    "\n",
    "# Create a figure and axis\n",
    "fig, ax = plt.subplots()\n",
    "\n",
    "# Initialize the data\n",
    "x = np.linspace(0, 2 * np.pi, 100)\n",
    "y = np.sin(x)\n",
    "\n",
    "# Initialize the plot elements (line in this case)\n",
    "line, = ax.plot(x, y)\n",
    "\n",
    "# Function to update the plot for each animation frame\n",
    "def update(frame):\n",
    "    line.set_ydata(np.sin(x + frame * 0.1))\n",
    "    return line,\n",
    "\n",
    "# Create the animation\n",
    "ani = FuncAnimation(fig, update, frames=range(100), blit=True)\n",
    "\n",
    "# Create a writer to save the animation as a video file\n",
    "writer = PillowWriter(fps=20)\n",
    "ani.save(\"sin_wave_animation.gif\", writer=writer)\n",
    "\n",
    "plt.show()\n"
   ]
  },
  {
   "cell_type": "code",
   "execution_count": null,
   "metadata": {},
   "outputs": [],
   "source": [
    "import numpy as np\n",
    "import plotly.graph_objects as go\n",
    "import matplotlib.cm as cm\n",
    "from matplotlib.colors import Normalize\n",
    "\n",
    "# image dimensions (pixels)\n",
    "n1 = 150 # height\n",
    "n2 = 100 # width\n",
    "# Generate an image starting from a numerical function\n",
    "x, y = np.mgrid[-5:5:n1*1j, -3:3:n2*1j]\n",
    "f = np.cos(x * y)\n",
    "\n",
    "# use matplotlib to assign a colormap to the computed values\n",
    "norm = Normalize(f.min(), f.max())\n",
    "norm_f = norm(f)\n",
    "# generate the image:\n",
    "# img has a shape of (150, 100, 4).\n",
    "# The four channels are R, G, B, alpha\n",
    "# All values will be between 0 and 1\n",
    "img = cm.viridis(norm_f)\n",
    "\n",
    "# convert the image to values between 0 and 255\n",
    "# this is required by go.Image\n",
    "img = (img * 255).astype(int)\n",
    "\n",
    "# Create the image\n",
    "fig = go.Figure(data=[\n",
    "        go.Image(\n",
    "            # Note that you can move the image around the screen\n",
    "            # by setting appropriate values to x0, y0, dx, dy\n",
    "            x0=x.min(),\n",
    "            y0=y.min(),\n",
    "            dx=(x.max() - x.min()) / n2,\n",
    "            dy=(y.max() - y.min()) / n1,\n",
    "            z=img\n",
    "        )\n",
    "    ],\n",
    "    layout={\n",
    "        # set equal aspect ratio and axis labels\n",
    "        \"yaxis\": {\"scaleanchor\": \"x\", \"title\": \"y\"},\n",
    "        \"xaxis\": {\"title\": \"x\"}\n",
    "    }\n",
    ")\n",
    "fig"
   ]
  },
  {
   "cell_type": "code",
   "execution_count": null,
   "metadata": {},
   "outputs": [],
   "source": []
  }
 ],
 "metadata": {
  "kernelspec": {
   "display_name": "shadow",
   "language": "python",
   "name": "python3"
  },
  "language_info": {
   "codemirror_mode": {
    "name": "ipython",
    "version": 3
   },
   "file_extension": ".py",
   "mimetype": "text/x-python",
   "name": "python",
   "nbconvert_exporter": "python",
   "pygments_lexer": "ipython3",
   "version": "3.9.16"
  },
  "orig_nbformat": 4,
  "vscode": {
   "interpreter": {
    "hash": "0cf74a999d4ffc40242a95e83262eb29ca41616976ba1c2942396ce7ebf7594a"
   }
  }
 },
 "nbformat": 4,
 "nbformat_minor": 2
}
